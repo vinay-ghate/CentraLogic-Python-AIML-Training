{
 "cells": [
  {
   "cell_type": "markdown",
   "metadata": {},
   "source": [
    "Day 3\n",
    "\n",
    "Conditional statements (if, elif, else)\n",
    "\n",
    "Loops (for and while loops)\n",
    "\n",
    "Loop control statements (break, continue)\n",
    "\n",
    "Strings and String Manipulation\n",
    "\n",
    "Dictionary Manipulatio"
   ]
  },
  {
   "cell_type": "code",
   "execution_count": 2,
   "metadata": {},
   "outputs": [
    {
     "name": "stdout",
     "output_type": "stream",
     "text": [
      "Correct\n"
     ]
    }
   ],
   "source": [
    "# IF \n",
    "\n",
    "a = 5\n",
    "\n",
    "if a == 5:\n",
    "    print(\"Correct\")"
   ]
  },
  {
   "cell_type": "code",
   "execution_count": 1,
   "metadata": {},
   "outputs": [
    {
     "name": "stdout",
     "output_type": "stream",
     "text": [
      "Hellow Raj, You are eligible to vote...\n"
     ]
    }
   ],
   "source": [
    "name = input(\"Name : \")\n",
    "age = int(input(\"Age : \"))\n",
    "\n",
    "if age<0:\n",
    "    print(\"Invalid\")\n",
    "elif age<2:\n",
    "    print(\"Hey Baby\")\n",
    "elif age<18:\n",
    "    print(\"Yo Teenager\")\n",
    "elif age > 18:\n",
    "    citizenship = input(\"Are you Indian Y/N?\")\n",
    "    if citizenship == \"Y\":\n",
    "        print(f\"Hellow {name}, You are eligible to vote...\")\n",
    "    else:\n",
    "        print(\"U can't vote.\")\n"
   ]
  },
  {
   "cell_type": "code",
   "execution_count": 3,
   "metadata": {},
   "outputs": [
    {
     "name": "stdout",
     "output_type": "stream",
     "text": [
      "In If\n"
     ]
    }
   ],
   "source": [
    "condition = input(\"Enter your condition : \")\n",
    "if eval(condition) == True:\n",
    "    print(\"In If\")\n",
    "elif condition == True:\n",
    "    print(\"In ElIf\")\n",
    "else:\n",
    "    print(\"Else\")\n"
   ]
  },
  {
   "cell_type": "code",
   "execution_count": 4,
   "metadata": {},
   "outputs": [],
   "source": [
    "## Loops\n"
   ]
  },
  {
   "cell_type": "code",
   "execution_count": 5,
   "metadata": {},
   "outputs": [
    {
     "name": "stdout",
     "output_type": "stream",
     "text": [
      "0\n",
      "1\n",
      "2\n",
      "3\n",
      "4\n",
      "5\n",
      "6\n",
      "7\n",
      "8\n",
      "9\n"
     ]
    }
   ],
   "source": [
    "#For Loop\n",
    "\n",
    "for iterator in range(10):   # range(From : To : Counter)\n",
    "    print(iterator)"
   ]
  },
  {
   "cell_type": "code",
   "execution_count": 6,
   "metadata": {},
   "outputs": [
    {
     "name": "stdout",
     "output_type": "stream",
     "text": [
      "5\n",
      "4\n",
      "3\n",
      "2\n",
      "1\n"
     ]
    }
   ],
   "source": [
    "# While \n",
    "n = 5\n",
    "\n",
    "while n:\n",
    "    print(n)\n",
    "    n-=1"
   ]
  },
  {
   "cell_type": "code",
   "execution_count": 7,
   "metadata": {},
   "outputs": [
    {
     "name": "stdout",
     "output_type": "stream",
     "text": [
      "12\n",
      "24\n",
      "36\n",
      "48\n",
      "60\n",
      "72\n",
      "84\n",
      "96\n",
      "108\n",
      "120\n"
     ]
    }
   ],
   "source": [
    "x = 12\n",
    "\n",
    "\n",
    "for i in range(1,11):\n",
    "    print(x*i)"
   ]
  },
  {
   "cell_type": "code",
   "execution_count": 9,
   "metadata": {},
   "outputs": [
    {
     "name": "stdout",
     "output_type": "stream",
     "text": [
      "12\n",
      "24\n",
      "36\n",
      "48\n",
      "60\n",
      "72\n",
      "84\n",
      "96\n",
      "108\n",
      "120\n"
     ]
    }
   ],
   "source": [
    "x = 12\n",
    "n= 1\n",
    "\n",
    "while n!=11:\n",
    "    print(n*x)\n",
    "    n+=1"
   ]
  },
  {
   "cell_type": "code",
   "execution_count": 10,
   "metadata": {},
   "outputs": [
    {
     "name": "stdout",
     "output_type": "stream",
     "text": [
      "You guessed a larger number\n",
      "You guessed a smaller number\n",
      "You guessed a smaller number\n"
     ]
    }
   ],
   "source": [
    "# Simple game\n",
    "\n",
    "import random\n",
    "\n",
    "s = random.randint(1,25)\n",
    "guess = 3\n",
    "\n",
    "while guess:\n",
    "    guess-=1\n",
    "    a = int(input(\"Enter Guess : \"))\n",
    "    if a==s:\n",
    "        print(\"Correct Guess!\")\n",
    "        break  # End the loop\n",
    "    elif a>s:\n",
    "        print(\"You guessed a larger number\")\n",
    "        continue # Will move to next part of loop, will not run remaining part of current loop\n",
    "    elif a:\n",
    "        pass  # Kuch nahi karega\n",
    "    else:\n",
    "        print(\"You guessed a smaller number\")\n",
    "        continue"
   ]
  },
  {
   "cell_type": "code",
   "execution_count": 11,
   "metadata": {},
   "outputs": [],
   "source": [
    "# String"
   ]
  },
  {
   "cell_type": "code",
   "execution_count": 12,
   "metadata": {},
   "outputs": [
    {
     "name": "stdout",
     "output_type": "stream",
     "text": [
      "Vinay Ghate\n"
     ]
    }
   ],
   "source": [
    "a = \"Vinay\"\n",
    "b = \"Ghate\"\n",
    "\n",
    "print(a+\" \"+b)"
   ]
  },
  {
   "cell_type": "code",
   "execution_count": 14,
   "metadata": {},
   "outputs": [
    {
     "name": "stdout",
     "output_type": "stream",
     "text": [
      "2\n"
     ]
    }
   ],
   "source": [
    "a = \"Vinay\"\n",
    "b = \"Ghate\"\n",
    "c =  a+\" \"+b\n",
    "\n",
    "print(c.count(\"a\"))"
   ]
  },
  {
   "cell_type": "code",
   "execution_count": 15,
   "metadata": {},
   "outputs": [
    {
     "name": "stdout",
     "output_type": "stream",
     "text": [
      "My name is Vinay Ghate\n"
     ]
    }
   ],
   "source": [
    "a = \"Vinay\"\n",
    "b = \"Ghate\"\n",
    "\n",
    "print(f\"My name is {a} {b}\")"
   ]
  },
  {
   "cell_type": "code",
   "execution_count": 16,
   "metadata": {},
   "outputs": [
    {
     "data": {
      "text/plain": [
       "'Vi'"
      ]
     },
     "execution_count": 16,
     "metadata": {},
     "output_type": "execute_result"
    }
   ],
   "source": [
    "a = \"Vinay\"\n",
    "\n",
    "a[:2:]"
   ]
  },
  {
   "cell_type": "code",
   "execution_count": 17,
   "metadata": {},
   "outputs": [
    {
     "name": "stdout",
     "output_type": "stream",
     "text": [
      "vinay\n",
      "VINAY\n",
      "Vinay\n",
      "True\n"
     ]
    }
   ],
   "source": [
    "a = \"Vinay\"\n",
    "\n",
    "print(a.lower())\n",
    "print(a.upper())\n",
    "print(a.capitalize())\n",
    "print(a.istitle())"
   ]
  },
  {
   "cell_type": "code",
   "execution_count": 24,
   "metadata": {},
   "outputs": [
    {
     "name": "stdout",
     "output_type": "stream",
     "text": [
      "Vinay Ghate\n",
      "Vinay Ghate          \n",
      "       Vinay Ghate\n"
     ]
    }
   ],
   "source": [
    "a = \"       Vinay Ghate          \"\n",
    "\n",
    "print(a.strip())\n",
    "print(a.lstrip())  # To remove left spaces\n",
    "print(a.rstrip())  # To remove right spaces"
   ]
  },
  {
   "cell_type": "code",
   "execution_count": 27,
   "metadata": {},
   "outputs": [
    {
     "name": "stdout",
     "output_type": "stream",
     "text": [
      "V i n a y\n"
     ]
    }
   ],
   "source": [
    "a = \"Vinay\"\n",
    "\n",
    "print(\" \".join(a))"
   ]
  },
  {
   "cell_type": "code",
   "execution_count": 31,
   "metadata": {},
   "outputs": [
    {
     "name": "stdout",
     "output_type": "stream",
     "text": [
      "hhhhhhhhhhhhhhhhhhhhhhh\n",
      "hhahahahahahhahahahahha\n"
     ]
    }
   ],
   "source": [
    "a = \"ahahahahahahhahahahahha\"\n",
    "\n",
    "print(a.replace('a','h'))\n",
    "print(a.replace('a','h',1))"
   ]
  }
 ],
 "metadata": {
  "kernelspec": {
   "display_name": ".venv",
   "language": "python",
   "name": "python3"
  },
  "language_info": {
   "codemirror_mode": {
    "name": "ipython",
    "version": 3
   },
   "file_extension": ".py",
   "mimetype": "text/x-python",
   "name": "python",
   "nbconvert_exporter": "python",
   "pygments_lexer": "ipython3",
   "version": "3.10.8"
  }
 },
 "nbformat": 4,
 "nbformat_minor": 2
}
